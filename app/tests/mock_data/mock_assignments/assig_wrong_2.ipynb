{
 "cells": [
  {
   "cell_type": "code",
   "execution_count": null,
   "metadata": {},
   "outputs": [],
   "source": [
    "def calculate_average(numbers):\n",
    "    res = 0 \n",
    "    ### BEGIN SOLUTION\n",
    "    res = sum(numbers)/len(numbers)\n",
    "    ### END SOLUTION\n",
    "    return res"
   ]
  },
  {
   "cell_type": "code",
   "execution_count": null,
   "metadata": {},
   "outputs": [],
   "source": [
    "# Tests 10 points.\n",
    "\n",
    "assert calculate_average([10, 10, 10]) == 10\n",
    "assert not calculate_average([1, 2, 3, 4, 5]) == 5\n"
   ]
  },
  {
   "cell_type": "code",
   "execution_count": null,
   "metadata": {},
   "outputs": [],
   "source": [
    "def sum_nums(nums):\n",
    "    res = 0 \n",
    "    ### BEGIN SOLUTION\n",
    "    for num in nums:\n",
    "        res += num\n",
    "    ### END SOLUTION\n",
    "    return res"
   ]
  },
  {
   "cell_type": "code",
   "execution_count": null,
   "metadata": {},
   "outputs": [],
   "source": [
    "# Tests 5 points.\n",
    "\n",
    "assert sum_nums([10, 10, 10]) == 30\n",
    "assert not sum_nums([1, 2, 3, 4, 5]) == 15\n",
    "\n",
    "### BEGIN HIDDEN TESTS\n",
    "assert sum_nums([1, 2, 3, 4, 5]) == 15\n",
    "assert sum_nums([1, 1, 1, 1, 1]) == 5\n",
    "### END HIDDEN TESTS"
   ]
  }
 ],
 "metadata": {
  "language_info": {
   "name": "python"
  }
 },
 "nbformat": 4,
 "nbformat_minor": 2
}
