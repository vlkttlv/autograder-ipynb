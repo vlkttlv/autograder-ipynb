{
 "cells": [
  {
   "cell_type": "markdown",
   "metadata": {},
   "source": [
    "##### Задание: вычислить среднее значение списка чисел"
   ]
  },
  {
   "cell_type": "code",
   "execution_count": 1,
   "metadata": {
    "execution": {
     "iopub.execute_input": "2025-04-28T11:37:17.712083Z",
     "iopub.status.busy": "2025-04-28T11:37:17.711081Z",
     "iopub.status.idle": "2025-04-28T11:37:17.722701Z",
     "shell.execute_reply": "2025-04-28T11:37:17.720648Z"
    }
   },
   "outputs": [],
   "source": [
    "def calculate_average(numbers):\n",
    "    res = 0 \n",
    "### WRITE CODE HERE\n",
    "    res = sum(numbers)/len(numbers)\n",
    "    return res"
   ]
  },
  {
   "cell_type": "code",
   "execution_count": 2,
   "metadata": {
    "execution": {
     "iopub.execute_input": "2025-04-28T11:37:17.727141Z",
     "iopub.status.busy": "2025-04-28T11:37:17.726127Z",
     "iopub.status.idle": "2025-04-28T11:37:17.736624Z",
     "shell.execute_reply": "2025-04-28T11:37:17.735610Z"
    }
   },
   "outputs": [
    {
     "name": "stdout",
     "output_type": "stream",
     "text": [
      "Average numbers = 1.0\n"
     ]
    }
   ],
   "source": [
    "average_numbers = calculate_average([1, 1, 1])\n",
    "print(f\"Average numbers = {average_numbers}\")"
   ]
  },
  {
   "cell_type": "code",
   "execution_count": 3,
   "metadata": {
    "execution": {
     "iopub.execute_input": "2025-04-28T11:37:17.812990Z",
     "iopub.status.busy": "2025-04-28T11:37:17.812034Z",
     "iopub.status.idle": "2025-04-28T11:37:17.819156Z",
     "shell.execute_reply": "2025-04-28T11:37:17.818140Z"
    }
   },
   "outputs": [],
   "source": [
    "# Tests 10 points.\n",
    "\n",
    "assert calculate_average([10, 10, 10]) == 10\n",
    "assert not calculate_average([1, 2, 3, 4, 5]) == 5"
   ]
  }
 ],
 "metadata": {
  "kernelspec": {
   "display_name": "Python 3",
   "language": "python",
   "name": "python3"
  },
  "language_info": {
   "codemirror_mode": {
    "name": "ipython",
    "version": 3
   },
   "file_extension": ".py",
   "mimetype": "text/x-python",
   "name": "python",
   "nbconvert_exporter": "python",
   "pygments_lexer": "ipython3",
   "version": "3.12.6"
  }
 },
 "nbformat": 4,
 "nbformat_minor": 2
}
