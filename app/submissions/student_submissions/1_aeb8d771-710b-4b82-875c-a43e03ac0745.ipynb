{
 "cells": [
  {
   "cell_type": "markdown",
   "metadata": {},
   "source": [
    "##### Задание: вычислить среднее значение списка чисел"
   ]
  },
  {
   "cell_type": "code",
   "execution_count": 1,
   "metadata": {
    "execution": {
     "iopub.execute_input": "2025-04-28T11:40:31.515455Z",
     "iopub.status.busy": "2025-04-28T11:40:31.514453Z",
     "iopub.status.idle": "2025-04-28T11:40:31.526564Z",
     "shell.execute_reply": "2025-04-28T11:40:31.524447Z"
    }
   },
   "outputs": [],
   "source": [
    "def calculate_average(numbers):\n",
    "    res = 0 \n",
    "### WRITE CODE HERE\n",
    "    res = sum(numbers)/len(numbers)\n",
    "    return res"
   ]
  },
  {
   "cell_type": "code",
   "execution_count": 2,
   "metadata": {
    "execution": {
     "iopub.execute_input": "2025-04-28T11:40:31.542466Z",
     "iopub.status.busy": "2025-04-28T11:40:31.541487Z",
     "iopub.status.idle": "2025-04-28T11:40:31.553900Z",
     "shell.execute_reply": "2025-04-28T11:40:31.553391Z"
    }
   },
   "outputs": [
    {
     "name": "stdout",
     "output_type": "stream",
     "text": [
      "Average numbers = 1.0\n"
     ]
    }
   ],
   "source": [
    "average_numbers = calculate_average([1, 1, 1])\n",
    "print(f\"Average numbers = {average_numbers}\")"
   ]
  },
  {
   "cell_type": "code",
   "execution_count": 3,
   "metadata": {
    "execution": {
     "iopub.execute_input": "2025-04-28T11:40:31.680299Z",
     "iopub.status.busy": "2025-04-28T11:40:31.679298Z",
     "iopub.status.idle": "2025-04-28T11:40:31.689081Z",
     "shell.execute_reply": "2025-04-28T11:40:31.687012Z"
    }
   },
   "outputs": [],
   "source": [
    "# Tests 10 points.\n",
    "\n",
    "assert calculate_average([10, 10, 10]) == 10\n",
    "assert not calculate_average([1, 2, 3, 4, 5]) == 5"
   ]
  }
 ],
 "metadata": {
  "kernelspec": {
   "display_name": "Python 3",
   "language": "python",
   "name": "python3"
  },
  "language_info": {
   "codemirror_mode": {
    "name": "ipython",
    "version": 3
   },
   "file_extension": ".py",
   "mimetype": "text/x-python",
   "name": "python",
   "nbconvert_exporter": "python",
   "pygments_lexer": "ipython3",
   "version": "3.12.6"
  }
 },
 "nbformat": 4,
 "nbformat_minor": 2
}
