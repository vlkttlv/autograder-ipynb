{
 "cells": [
  {
   "cell_type": "code",
   "execution_count": null,
   "metadata": {},
   "outputs": [],
   "source": [
    "def calculate_average(numbers):\n",
    "    res = 0 \n",
    "    ### BEGIN SOLUTION\n",
    "    res = sum(numbers)/len(numbers)\n",
    "    ### END SOLUTION\n",
    "    return res"
   ]
  },
  {
   "cell_type": "code",
   "execution_count": null,
   "metadata": {},
   "outputs": [],
   "source": [
    "# Tests 10 points.\n",
    "\n",
    "assert calculate_average([10, 10, 10]) == 10\n",
    "assert not calculate_average([1, 2, 3, 4, 5]) == 5\n",
    "\n",
    "### BEGIN HIDDEN TESTS\n",
    "assert calculate_average([1, 2, 3, 4, 5]) == 3\n",
    "assert calculate_average([1, 1, 1, 1, 1]) == 1"
   ]
  }
 ],
 "metadata": {
  "language_info": {
   "name": "python"
  }
 },
 "nbformat": 4,
 "nbformat_minor": 2
}
